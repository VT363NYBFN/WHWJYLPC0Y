{
 "cells": [
  {
   "cell_type": "code",
   "execution_count": 48,
   "id": "35373ab5",
   "metadata": {},
   "outputs": [],
   "source": [
    "import matplotlib.pyplot as plt\n",
    "import numpy as np\n",
    "import pandas as pd\n",
    "import sklearn\n",
    "import sklearn.metrics"
   ]
  },
  {
   "cell_type": "code",
   "execution_count": 81,
   "id": "001d5c47",
   "metadata": {},
   "outputs": [
    {
     "data": {
      "text/plain": [
       "(array([ 5.,  8.,  5., 20., 13., 10., 11.,  4.,  3.,  1.]),\n",
       " array([12.7163182 , 13.22059504, 13.72487189, 14.22914873, 14.73342558,\n",
       "        15.23770242, 15.74197927, 16.24625611, 16.75053295, 17.2548098 ,\n",
       "        17.75908664]),\n",
       " <BarContainer object of 10 artists>)"
      ]
     },
     "execution_count": 81,
     "metadata": {},
     "output_type": "execute_result"
    },
    {
     "data": {
      "image/png": "[encoded data removed]",
      "text/plain": [
       "<Figure size 432x288 with 1 Axes>"
      ]
     },
     "metadata": {
      "needs_background": "light"
     },
     "output_type": "display_data"
    }
   ],
   "source": [
    "model_a_pass = np.random.gamma(2.5, 2.5, size=500)\n",
    "model_a_fail = np.random.normal(loc=15, scale=1, size=80)\n",
    "plt.hist(model_a_pass, bins=10)\n",
    "plt.hist(model_a_fail, bins=10)"
   ]
  },
  {
   "cell_type": "code",
   "execution_count": 82,
   "id": "e37033ff",
   "metadata": {},
   "outputs": [
    {
     "data": {
      "text/plain": [
       "(array([ 2.,  2.,  7., 13., 15., 14., 12.,  9.,  5.,  1.]),\n",
       " array([ 7.11125958,  8.21919912,  9.32713866, 10.4350782 , 11.54301774,\n",
       "        12.65095728, 13.75889682, 14.86683636, 15.9747759 , 17.08271544,\n",
       "        18.19065498]),\n",
       " <BarContainer object of 10 artists>)"
      ]
     },
     "execution_count": 82,
     "metadata": {},
     "output_type": "execute_result"
    },
    {
     "data": {
      "image/png": "[encoded data removed]",
      "text/plain": [
       "<Figure size 432x288 with 1 Axes>"
      ]
     },
     "metadata": {
      "needs_background": "light"
     },
     "output_type": "display_data"
    }
   ],
   "source": [
    "model_b_pass = np.random.gamma(2, 2, size=500)\n",
    "model_b_fail = np.random.normal(loc=13, scale=2.0, size=80)\n",
    "plt.hist(model_b_pass, bins=10)\n",
    "plt.hist(model_b_fail, bins=10)"
   ]
  },
  {
   "cell_type": "code",
   "execution_count": 100,
   "id": "d8042b30",
   "metadata": {},
   "outputs": [],
   "source": [
    "model_a_scores = np.concatenate((model_a_pass, model_a_fail))\n",
    "model_b_scores = np.concatenate((model_b_pass, model_b_fail))\n",
    "labels = np.concatenate((np.zeros(len(model_a_pass), dtype=int), np.ones(len(model_b_fail), dtype=int)))"
   ]
  },
  {
   "cell_type": "code",
   "execution_count": 101,
   "id": "4867c03c",
   "metadata": {},
   "outputs": [
    {
     "data": {
      "text/plain": [
       "0.971375"
      ]
     },
     "execution_count": 101,
     "metadata": {},
     "output_type": "execute_result"
    }
   ],
   "source": [
    "sklearn.metrics.roc_auc_score(labels, model_a_scores)"
   ]
  },
  {
   "cell_type": "code",
   "execution_count": 102,
   "id": "01477a31",
   "metadata": {},
   "outputs": [
    {
     "data": {
      "text/plain": [
       "0.98295"
      ]
     },
     "execution_count": 102,
     "metadata": {},
     "output_type": "execute_result"
    }
   ],
   "source": [
    "sklearn.metrics.roc_auc_score(labels, model_b_scores)"
   ]
  },
  {
   "cell_type": "code",
   "execution_count": 103,
   "id": "1f493b9d",
   "metadata": {},
   "outputs": [
    {
     "data": {
      "text/plain": [
       "(array([0.   , 0.002, 0.01 , 0.01 , 0.014, 0.014, 0.016, 0.016, 0.02 ,\n",
       "        0.02 , 0.022, 0.022, 0.024, 0.024, 0.026, 0.026, 0.028, 0.028,\n",
       "        0.03 , 0.03 , 0.032, 0.032, 0.036, 0.036, 0.038, 0.038, 0.04 ,\n",
       "        0.04 , 0.048, 0.048, 0.052, 0.052, 0.056, 0.056, 0.058, 0.058,\n",
       "        0.064, 0.064, 1.   ]),\n",
       " array([0.    , 0.    , 0.    , 0.0125, 0.0125, 0.025 , 0.025 , 0.0625,\n",
       "        0.0625, 0.1   , 0.1   , 0.3625, 0.3625, 0.4125, 0.4125, 0.75  ,\n",
       "        0.75  , 0.7625, 0.7625, 0.775 , 0.775 , 0.825 , 0.825 , 0.85  ,\n",
       "        0.85  , 0.8625, 0.8625, 0.875 , 0.875 , 0.8875, 0.8875, 0.925 ,\n",
       "        0.925 , 0.9375, 0.9375, 0.975 , 0.975 , 1.    , 1.    ]),\n",
       " array([21.79252578, 20.79252578, 18.84621318, 17.75908664, 17.5507468 ,\n",
       "        17.22880399, 17.21867585, 16.71852207, 16.59831969, 16.3488785 ,\n",
       "        16.29894913, 15.32823854, 15.29496837, 15.08929435, 15.05616288,\n",
       "        14.42071404, 14.35032253, 14.31253722, 14.25474792, 14.25373223,\n",
       "        14.17770994, 13.96835177, 13.81925674, 13.71237397, 13.69559739,\n",
       "        13.66962511, 13.60578943, 13.55123727, 13.38438491, 13.35306519,\n",
       "        13.32732088, 13.304874  , 13.25025852, 13.22775302, 13.19613769,\n",
       "        13.10292573, 12.83434748, 12.7163182 ,  0.11315233]))"
      ]
     },
     "execution_count": 103,
     "metadata": {},
     "output_type": "execute_result"
    }
   ],
   "source": [
    "sklearn.metrics.roc_curve(labels, model_a_scores)"
   ]
  },
  {
   "cell_type": "code",
   "execution_count": 119,
   "id": "03b0a50e",
   "metadata": {},
   "outputs": [],
   "source": [
    "df = {\n",
    "    \"score_a\": [score for score in model_a_scores],\n",
    "    \"score_b\": [score for score in model_b_scores],\n",
    "    \"label\": [label for label in labels],\n",
    "}\n",
    "\n",
    "df = pd.DataFrame(df)\n",
    "df.to_csv(\"scores.csv\")"
   ]
  },
  {
   "cell_type": "code",
   "execution_count": 122,
   "id": "7cdabec0",
   "metadata": {},
   "outputs": [
    {
     "data": {
      "text/plain": [
       "(array([ 3., 11., 18., 26., 32., 30., 20., 12.,  5.,  3.]),\n",
       " array([12.38549646, 12.94539112, 13.50528578, 14.06518044, 14.6250751 ,\n",
       "        15.18496976, 15.74486442, 16.30475908, 16.86465374, 17.4245484 ,\n",
       "        17.98444306]),\n",
       " <BarContainer object of 10 artists>)"
      ]
     },
     "execution_count": 122,
     "metadata": {},
     "output_type": "execute_result"
    },
    {
     "data": {
      "image/png": "[encoded data removed]",
      "text/plain": [
       "<Figure size 432x288 with 1 Axes>"
      ]
     },
     "metadata": {
      "needs_background": "light"
     },
     "output_type": "display_data"
    }
   ],
   "source": [
    "model_a_pass_train = np.random.gamma(2.0, 2.0, size=1000)\n",
    "model_a_fail_train = np.random.normal(loc=15, scale=1, size=160)\n",
    "plt.hist(model_a_pass_train, bins=10)\n",
    "plt.hist(model_a_fail_train, bins=10)"
   ]
  },
  {
   "cell_type": "code",
   "execution_count": 125,
   "id": "50ac0000",
   "metadata": {},
   "outputs": [
    {
     "data": {
      "text/plain": [
       "(array([ 3., 11., 12., 24., 30., 30., 18., 19.,  9.,  4.]),\n",
       " array([ 8.60301272,  9.49780587, 10.39259902, 11.28739217, 12.18218532,\n",
       "        13.07697848, 13.97177163, 14.86656478, 15.76135793, 16.65615108,\n",
       "        17.55094423]),\n",
       " <BarContainer object of 10 artists>)"
      ]
     },
     "execution_count": 125,
     "metadata": {},
     "output_type": "execute_result"
    },
    {
     "data": {
      "image/png": "[encoded data removed]",
      "text/plain": [
       "<Figure size 432x288 with 1 Axes>"
      ]
     },
     "metadata": {
      "needs_background": "light"
     },
     "output_type": "display_data"
    }
   ],
   "source": [
    "model_b_pass_train = np.random.gamma(2, 2, size=1000)\n",
    "model_b_fail_train = np.random.normal(loc=13, scale=2.0, size=160)\n",
    "plt.hist(model_b_pass_train, bins=10)\n",
    "plt.hist(model_b_fail_train, bins=10)"
   ]
  },
  {
   "cell_type": "code",
   "execution_count": 127,
   "id": "da758c28",
   "metadata": {},
   "outputs": [
    {
     "data": {
      "text/html": [
       "<div>\n",
       "<style scoped>\n",
       "    .dataframe tbody tr th:only-of-type {\n",
       "        vertical-align: middle;\n",
       "    }\n",
       "\n",
       "    .dataframe tbody tr th {\n",
       "        vertical-align: top;\n",
       "    }\n",
       "\n",
       "    .dataframe thead th {\n",
       "        text-align: right;\n",
       "    }\n",
       "</style>\n",
       "<table border=\"1\" class=\"dataframe\">\n",
       "  <thead>\n",
       "    <tr style=\"text-align: right;\">\n",
       "      <th></th>\n",
       "      <th>score_a</th>\n",
       "      <th>score_b</th>\n",
       "      <th>label</th>\n",
       "    </tr>\n",
       "  </thead>\n",
       "  <tbody>\n",
       "    <tr>\n",
       "      <th>0</th>\n",
       "      <td>4.990756</td>\n",
       "      <td>9.211720</td>\n",
       "      <td>0</td>\n",
       "    </tr>\n",
       "    <tr>\n",
       "      <th>1</th>\n",
       "      <td>3.470515</td>\n",
       "      <td>6.695950</td>\n",
       "      <td>0</td>\n",
       "    </tr>\n",
       "    <tr>\n",
       "      <th>2</th>\n",
       "      <td>8.887255</td>\n",
       "      <td>4.485994</td>\n",
       "      <td>0</td>\n",
       "    </tr>\n",
       "    <tr>\n",
       "      <th>3</th>\n",
       "      <td>1.250734</td>\n",
       "      <td>8.110968</td>\n",
       "      <td>0</td>\n",
       "    </tr>\n",
       "    <tr>\n",
       "      <th>4</th>\n",
       "      <td>0.897766</td>\n",
       "      <td>2.015192</td>\n",
       "      <td>0</td>\n",
       "    </tr>\n",
       "    <tr>\n",
       "      <th>...</th>\n",
       "      <td>...</td>\n",
       "      <td>...</td>\n",
       "      <td>...</td>\n",
       "    </tr>\n",
       "    <tr>\n",
       "      <th>1155</th>\n",
       "      <td>16.515571</td>\n",
       "      <td>11.410800</td>\n",
       "      <td>1</td>\n",
       "    </tr>\n",
       "    <tr>\n",
       "      <th>1156</th>\n",
       "      <td>15.709676</td>\n",
       "      <td>9.402707</td>\n",
       "      <td>1</td>\n",
       "    </tr>\n",
       "    <tr>\n",
       "      <th>1157</th>\n",
       "      <td>15.253008</td>\n",
       "      <td>14.580895</td>\n",
       "      <td>1</td>\n",
       "    </tr>\n",
       "    <tr>\n",
       "      <th>1158</th>\n",
       "      <td>14.910236</td>\n",
       "      <td>15.525892</td>\n",
       "      <td>1</td>\n",
       "    </tr>\n",
       "    <tr>\n",
       "      <th>1159</th>\n",
       "      <td>16.265897</td>\n",
       "      <td>12.304183</td>\n",
       "      <td>1</td>\n",
       "    </tr>\n",
       "  </tbody>\n",
       "</table>\n",
       "<p>1160 rows × 3 columns</p>\n",
       "</div>"
      ],
      "text/plain": [
       "        score_a    score_b  label\n",
       "0      4.990756   9.211720      0\n",
       "1      3.470515   6.695950      0\n",
       "2      8.887255   4.485994      0\n",
       "3      1.250734   8.110968      0\n",
       "4      0.897766   2.015192      0\n",
       "...         ...        ...    ...\n",
       "1155  16.515571  11.410800      1\n",
       "1156  15.709676   9.402707      1\n",
       "1157  15.253008  14.580895      1\n",
       "1158  14.910236  15.525892      1\n",
       "1159  16.265897  12.304183      1\n",
       "\n",
       "[1160 rows x 3 columns]"
      ]
     },
     "execution_count": 127,
     "metadata": {},
     "output_type": "execute_result"
    }
   ],
   "source": [
    "model_a_scores = np.concatenate((model_a_pass_train, model_a_fail_train))\n",
    "model_b_scores = np.concatenate((model_b_pass_train, model_b_fail_train))\n",
    "labels = np.concatenate((np.zeros(len(model_b_pass_train), dtype=int), np.ones(len(model_b_fail_train), dtype=int)))\n",
    "\n",
    "df = {\n",
    "    \"score_a\": [score for score in model_a_scores],\n",
    "    \"score_b\": [score for score in model_b_scores],\n",
    "    \"label\": [label for label in labels],\n",
    "}\n",
    "\n",
    "df = pd.DataFrame(df)\n",
    "df.to_csv(\"scores_train.csv\")\n",
    "df"
   ]
  },
  {
   "cell_type": "code",
   "execution_count": 130,
   "id": "9703d6fd",
   "metadata": {},
   "outputs": [
    {
     "data": {
      "text/plain": [
       "0.99630625"
      ]
     },
     "execution_count": 130,
     "metadata": {},
     "output_type": "execute_result"
    }
   ],
   "source": [
    "sklearn.metrics.roc_auc_score(labels, model_a_scores)"
   ]
  },
  {
   "cell_type": "code",
   "execution_count": null,
   "id": "b545e2c3",
   "metadata": {},
   "outputs": [],
   "source": []
  }
 ],
 "metadata": {
  "kernelspec": {
   "display_name": "Python 3 (ipykernel)",
   "language": "python",
   "name": "python3"
  },
  "language_info": {
   "codemirror_mode": {
    "name": "ipython",
    "version": 3
   },
   "file_extension": ".py",
   "mimetype": "text/x-python",
   "name": "python",
   "nbconvert_exporter": "python",
   "pygments_lexer": "ipython3",
   "version": "3.9.7"
  }
 },
 "nbformat": 4,
 "nbformat_minor": 5
}
