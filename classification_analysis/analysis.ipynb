{
 "cells": [
  {
   "cell_type": "code",
   "execution_count": 5,
   "id": "3de1bff9",
   "metadata": {},
   "outputs": [],
   "source": [
    "import matplotlib.pyplot as plt\n",
    "import numpy as np\n",
    "import pandas as pd\n",
    "import sklearn\n",
    "import sklearn.metrics"
   ]
  },
  {
   "cell_type": "markdown",
   "id": "34d306fc",
   "metadata": {},
   "source": [
    "### Overview\n",
    "\n",
    "You are provided with a dataframe of validation scores from two models (A and B) that were trained to identify defects in a dataset of manufactured goods. You will use the dataframe to answer the questions in the notebook.\n",
    "\n",
    "Assumptions:\n",
    "- A higher score means the model believes the sample is more anomalous.\n",
    "- 0 is the lowest possible score (and least anomalous)\n",
    "- A positive label (anomalous) is 1\n",
    "- A negative label (normal) is 0\n",
    "\n",
    "You are free to use the internet for documentation / debugging"
   ]
  },
  {
   "cell_type": "code",
   "execution_count": 28,
   "id": "fc6b907e",
   "metadata": {},
   "outputs": [
    {
     "data": {
      "text/html": [
       "<div>\n",
       "<style scoped>\n",
       "    .dataframe tbody tr th:only-of-type {\n",
       "        vertical-align: middle;\n",
       "    }\n",
       "\n",
       "    .dataframe tbody tr th {\n",
       "        vertical-align: top;\n",
       "    }\n",
       "\n",
       "    .dataframe thead th {\n",
       "        text-align: right;\n",
       "    }\n",
       "</style>\n",
       "<table border=\"1\" class=\"dataframe\">\n",
       "  <thead>\n",
       "    <tr style=\"text-align: right;\">\n",
       "      <th></th>\n",
       "      <th>score_a</th>\n",
       "      <th>score_b</th>\n",
       "      <th>label</th>\n",
       "    </tr>\n",
       "  </thead>\n",
       "  <tbody>\n",
       "    <tr>\n",
       "      <th>0</th>\n",
       "      <td>5.882112</td>\n",
       "      <td>2.983324</td>\n",
       "      <td>0</td>\n",
       "    </tr>\n",
       "    <tr>\n",
       "      <th>1</th>\n",
       "      <td>0.904259</td>\n",
       "      <td>8.706213</td>\n",
       "      <td>0</td>\n",
       "    </tr>\n",
       "    <tr>\n",
       "      <th>2</th>\n",
       "      <td>5.292987</td>\n",
       "      <td>5.955916</td>\n",
       "      <td>0</td>\n",
       "    </tr>\n",
       "    <tr>\n",
       "      <th>3</th>\n",
       "      <td>14.254748</td>\n",
       "      <td>3.215533</td>\n",
       "      <td>0</td>\n",
       "    </tr>\n",
       "    <tr>\n",
       "      <th>4</th>\n",
       "      <td>6.711388</td>\n",
       "      <td>9.690617</td>\n",
       "      <td>0</td>\n",
       "    </tr>\n",
       "    <tr>\n",
       "      <th>...</th>\n",
       "      <td>...</td>\n",
       "      <td>...</td>\n",
       "      <td>...</td>\n",
       "    </tr>\n",
       "    <tr>\n",
       "      <th>575</th>\n",
       "      <td>14.559980</td>\n",
       "      <td>15.271662</td>\n",
       "      <td>1</td>\n",
       "    </tr>\n",
       "    <tr>\n",
       "      <th>576</th>\n",
       "      <td>13.227753</td>\n",
       "      <td>13.530864</td>\n",
       "      <td>1</td>\n",
       "    </tr>\n",
       "    <tr>\n",
       "      <th>577</th>\n",
       "      <td>14.670447</td>\n",
       "      <td>13.360077</td>\n",
       "      <td>1</td>\n",
       "    </tr>\n",
       "    <tr>\n",
       "      <th>578</th>\n",
       "      <td>14.076589</td>\n",
       "      <td>15.169437</td>\n",
       "      <td>1</td>\n",
       "    </tr>\n",
       "    <tr>\n",
       "      <th>579</th>\n",
       "      <td>14.420714</td>\n",
       "      <td>17.061817</td>\n",
       "      <td>1</td>\n",
       "    </tr>\n",
       "  </tbody>\n",
       "</table>\n",
       "<p>580 rows × 3 columns</p>\n",
       "</div>"
      ],
      "text/plain": [
       "       score_a    score_b  label\n",
       "0     5.882112   2.983324      0\n",
       "1     0.904259   8.706213      0\n",
       "2     5.292987   5.955916      0\n",
       "3    14.254748   3.215533      0\n",
       "4     6.711388   9.690617      0\n",
       "..         ...        ...    ...\n",
       "575  14.559980  15.271662      1\n",
       "576  13.227753  13.530864      1\n",
       "577  14.670447  13.360077      1\n",
       "578  14.076589  15.169437      1\n",
       "579  14.420714  17.061817      1\n",
       "\n",
       "[580 rows x 3 columns]"
      ]
     },
     "execution_count": 28,
     "metadata": {},
     "output_type": "execute_result"
    }
   ],
   "source": [
    "valid_df = pd.read_csv(\"scores_valid.csv\")\n",
    "valid_df"
   ]
  },
  {
   "cell_type": "markdown",
   "id": "6612df7e",
   "metadata": {},
   "source": [
    "#### 1. Find the samples that were considered most and least anomalous for each model"
   ]
  },
  {
   "cell_type": "code",
   "execution_count": null,
   "id": "933808b9",
   "metadata": {},
   "outputs": [],
   "source": []
  },
  {
   "cell_type": "markdown",
   "id": "c5c55b08",
   "metadata": {},
   "source": [
    "#### 2. Plot the scores as a histogram separating the normal and anomalous samples by color. What can you say about the shape of the distribution?"
   ]
  },
  {
   "cell_type": "code",
   "execution_count": null,
   "id": "7b85e310",
   "metadata": {},
   "outputs": [],
   "source": []
  },
  {
   "cell_type": "markdown",
   "id": "514aa9c2",
   "metadata": {},
   "source": [
    "#### 3. Which model (A or B) is better at separating normal samples from anomalous ones? Make this determination quantitatively."
   ]
  },
  {
   "cell_type": "code",
   "execution_count": null,
   "id": "6bb3c0e6",
   "metadata": {},
   "outputs": [],
   "source": []
  },
  {
   "cell_type": "markdown",
   "id": "4725769e",
   "metadata": {},
   "source": [
    "#### 4. Determine the threshold for each model to optimize the true positive rate (TPR / recall) while not allowing the false positive rate (FPR) to exceed 2%"
   ]
  },
  {
   "cell_type": "code",
   "execution_count": null,
   "id": "fe179039",
   "metadata": {},
   "outputs": [],
   "source": []
  },
  {
   "cell_type": "markdown",
   "id": "9e40b486",
   "metadata": {},
   "source": [
    "#### 5. You are now provided with the scores on the training set. Determine which of the two models is overfitting more."
   ]
  },
  {
   "cell_type": "code",
   "execution_count": 29,
   "id": "a5b32443",
   "metadata": {},
   "outputs": [
    {
     "data": {
      "text/html": [
       "<div>\n",
       "<style scoped>\n",
       "    .dataframe tbody tr th:only-of-type {\n",
       "        vertical-align: middle;\n",
       "    }\n",
       "\n",
       "    .dataframe tbody tr th {\n",
       "        vertical-align: top;\n",
       "    }\n",
       "\n",
       "    .dataframe thead th {\n",
       "        text-align: right;\n",
       "    }\n",
       "</style>\n",
       "<table border=\"1\" class=\"dataframe\">\n",
       "  <thead>\n",
       "    <tr style=\"text-align: right;\">\n",
       "      <th></th>\n",
       "      <th>score_a</th>\n",
       "      <th>score_b</th>\n",
       "      <th>label</th>\n",
       "    </tr>\n",
       "  </thead>\n",
       "  <tbody>\n",
       "    <tr>\n",
       "      <th>0</th>\n",
       "      <td>4.990756</td>\n",
       "      <td>9.211720</td>\n",
       "      <td>0</td>\n",
       "    </tr>\n",
       "    <tr>\n",
       "      <th>1</th>\n",
       "      <td>3.470515</td>\n",
       "      <td>6.695950</td>\n",
       "      <td>0</td>\n",
       "    </tr>\n",
       "    <tr>\n",
       "      <th>2</th>\n",
       "      <td>8.887255</td>\n",
       "      <td>4.485994</td>\n",
       "      <td>0</td>\n",
       "    </tr>\n",
       "    <tr>\n",
       "      <th>3</th>\n",
       "      <td>1.250734</td>\n",
       "      <td>8.110968</td>\n",
       "      <td>0</td>\n",
       "    </tr>\n",
       "    <tr>\n",
       "      <th>4</th>\n",
       "      <td>0.897766</td>\n",
       "      <td>2.015192</td>\n",
       "      <td>0</td>\n",
       "    </tr>\n",
       "    <tr>\n",
       "      <th>...</th>\n",
       "      <td>...</td>\n",
       "      <td>...</td>\n",
       "      <td>...</td>\n",
       "    </tr>\n",
       "    <tr>\n",
       "      <th>1155</th>\n",
       "      <td>16.515571</td>\n",
       "      <td>11.410800</td>\n",
       "      <td>1</td>\n",
       "    </tr>\n",
       "    <tr>\n",
       "      <th>1156</th>\n",
       "      <td>15.709676</td>\n",
       "      <td>9.402707</td>\n",
       "      <td>1</td>\n",
       "    </tr>\n",
       "    <tr>\n",
       "      <th>1157</th>\n",
       "      <td>15.253008</td>\n",
       "      <td>14.580895</td>\n",
       "      <td>1</td>\n",
       "    </tr>\n",
       "    <tr>\n",
       "      <th>1158</th>\n",
       "      <td>14.910236</td>\n",
       "      <td>15.525892</td>\n",
       "      <td>1</td>\n",
       "    </tr>\n",
       "    <tr>\n",
       "      <th>1159</th>\n",
       "      <td>16.265897</td>\n",
       "      <td>12.304183</td>\n",
       "      <td>1</td>\n",
       "    </tr>\n",
       "  </tbody>\n",
       "</table>\n",
       "<p>1160 rows × 3 columns</p>\n",
       "</div>"
      ],
      "text/plain": [
       "        score_a    score_b  label\n",
       "0      4.990756   9.211720      0\n",
       "1      3.470515   6.695950      0\n",
       "2      8.887255   4.485994      0\n",
       "3      1.250734   8.110968      0\n",
       "4      0.897766   2.015192      0\n",
       "...         ...        ...    ...\n",
       "1155  16.515571  11.410800      1\n",
       "1156  15.709676   9.402707      1\n",
       "1157  15.253008  14.580895      1\n",
       "1158  14.910236  15.525892      1\n",
       "1159  16.265897  12.304183      1\n",
       "\n",
       "[1160 rows x 3 columns]"
      ]
     },
     "execution_count": 29,
     "metadata": {},
     "output_type": "execute_result"
    }
   ],
   "source": [
    "train_df = pd.read_csv(\"scores_train.csv\")\n",
    "train_df"
   ]
  },
  {
   "cell_type": "code",
   "execution_count": null,
   "id": "31f469c5",
   "metadata": {},
   "outputs": [],
   "source": []
  },
  {
   "cell_type": "markdown",
   "id": "dcebfeae",
   "metadata": {},
   "source": [
    "#### 6. How might you create an ensemble of the two models?"
   ]
  },
  {
   "cell_type": "code",
   "execution_count": null,
   "id": "61adc857",
   "metadata": {},
   "outputs": [],
   "source": []
  }
 ],
 "metadata": {
  "kernelspec": {
   "display_name": "Python 3 (ipykernel)",
   "language": "python",
   "name": "python3"
  },
  "language_info": {
   "codemirror_mode": {
    "name": "ipython",
    "version": 3
   },
   "file_extension": ".py",
   "mimetype": "text/x-python",
   "name": "python",
   "nbconvert_exporter": "python",
   "pygments_lexer": "ipython3",
   "version": "3.9.7"
  }
 },
 "nbformat": 4,
 "nbformat_minor": 5
}
